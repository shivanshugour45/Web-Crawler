{
 "cells": [
  {
   "cell_type": "code",
   "execution_count": 1,
   "id": "c47e4854",
   "metadata": {},
   "outputs": [],
   "source": [
    "from selenium import webdriver\n",
    "from selenium.webdriver.common.by import By\n",
    "from selenium.webdriver.support.ui import WebDriverWait\n",
    "from selenium.webdriver.support import expected_conditions as EC\n",
    "from bs4 import BeautifulSoup\n",
    "from datetime import date\n",
    "import time\n",
    "import pandas as pd\n",
    "import warnings\n",
    "warnings.filterwarnings('ignore')"
   ]
  },
  {
   "cell_type": "code",
   "execution_count": null,
   "id": "3ed27733",
   "metadata": {},
   "outputs": [
    {
     "name": "stdout",
     "output_type": "stream",
     "text": [
      "Found articles on page  1\n",
      "Found articles on page  2\n",
      "Found articles on page  3\n",
      "Found articles on page  4\n"
     ]
    }
   ],
   "source": [
    "flag = True\n",
    "jobs = []\n",
    "url = \"https://www.naukri.com/jobs-in-india\"\n",
    "driver = webdriver.Chrome(\"Selenium/chromedriver.exe\")\n",
    "page = 0\n",
    "while flag:\n",
    "    driver.get(url)\n",
    "    page+=1\n",
    "    time.sleep(2)\n",
    "    \n",
    "    soup_naukri_curr_page = BeautifulSoup(driver.page_source,'html5lib')\n",
    "    \n",
    "    try:\n",
    "        list_section = soup_naukri_curr_page.find(\"section\", class_=\"listContainer fleft\").find(\"div\", class_=\"list\")\n",
    "    except AttributeError:\n",
    "        print(\"Skipped page \", page)\n",
    "        continue\n",
    "    \n",
    "    articles = list_section.find_all(\"article\", class_=\"jobTuple\")\n",
    "    print(\"Found articles on page \", page)\n",
    "    \n",
    "    for i in range(len(articles)):\n",
    "        details = dict()\n",
    "        try:\n",
    "            job_id = articles[i].get(\"data-job-id\")\n",
    "        except AttributeError:\n",
    "            job_id = \"NA\"\n",
    "        try:\n",
    "            role = articles[i].find(\"div\", class_=\"jobTupleHeader\").find(\"a\", class_=\"title ellipsis\").get_text()\n",
    "        except AttributeError:\n",
    "            role = \"NA\"\n",
    "        try:\n",
    "            link = articles[i].find(\"div\", class_=\"jobTupleHeader\").find(\"a\", class_=\"title ellipsis\").get(\"href\")\n",
    "        except AttributeError:\n",
    "            link = \"NA\"\n",
    "        try:\n",
    "            company = articles[i].find(\"div\", class_=\"jobTupleHeader\").find(\"a\", class_=\"subTitle ellipsis fleft\").get_text()\n",
    "        except AttributeError:\n",
    "            company = \"NA\"\n",
    "        try:\n",
    "            company_rating = articles[i].find(\"div\", class_=\"jobTupleHeader\").find(\"span\", class_=\"starRating fleft\").get_text()\n",
    "        except AttributeError:\n",
    "            company_rating = \"NA\"\n",
    "        try:\n",
    "            reviews = articles[i].find(\"div\", class_=\"jobTupleHeader\").find(\"a\", class_=\"reviewsCount fleft\").get_text()\n",
    "        except AttributeError:\n",
    "            reviews = \"NA\"\n",
    "        try:\n",
    "            exp_req = articles[i].find(\"div\", class_=\"jobTupleHeader\").find(\"li\", class_=\"fleft br2 placeHolderLi experience\").get_text()\n",
    "        except AttributeError:\n",
    "            exp_req = \"NA\"\n",
    "        try:\n",
    "            salary = articles[i].find(\"div\", class_=\"jobTupleHeader\").find(\"li\", class_=\"fleft br2 placeHolderLi salary\").get_text()\n",
    "        except AttributeError:\n",
    "            salary = \"NA\"\n",
    "        try:\n",
    "            locations = articles[i].find(\"div\", class_=\"jobTupleHeader\").find(\"li\", class_=\"fleft br2 placeHolderLi location\").get_text()\n",
    "        except AttributeError:\n",
    "            locations = \"NA\"\n",
    "        try:\n",
    "            description = articles[i].find(\"div\", class_=\"ellipsis job-description\").get_text()\n",
    "        except AttributeError:\n",
    "            description = \"NA\"\n",
    "        try:\n",
    "            job_posted = articles[i].find(\"div\", class_=\"jobTupleFooter mt-8\").find(\"div\", class_=\"tupleTagsContainer\").get_text()\n",
    "        except AttributeError:\n",
    "            job_posted = \"NA\"\n",
    "        try:\n",
    "            domains = articles[i].find(\"ul\", class_=\"tags has-description\").find_all(\"li\", class_=\"fleft dot\")\n",
    "            domains = [x.get_text() for x in domains]\n",
    "        except AttributeError:\n",
    "            domains = \"NA\"\n",
    "            \n",
    "        details.update({\"job_id\":job_id, \"role\":role, \"link\":link, \"company\":company, \"company_rating\":company_rating,\n",
    "                        \"reviews\":reviews, \"exp_req\":exp_req, \"salary\":salary,\n",
    "                        \"locations\":locations, \"job_posted\":job_posted, \"domains\":domains})\n",
    "        jobs.append(details)\n",
    "    try:\n",
    "        url = driver.find_element(By.LINK_TEXT,\"Next\").get_attribute(\"href\")\n",
    "    except WebDriverException:\n",
    "        flag = False\n",
    "    if page == 5:\n",
    "        break\n",
    "driver.close()"
   ]
  },
  {
   "cell_type": "code",
   "execution_count": null,
   "id": "d14a63c3",
   "metadata": {},
   "outputs": [],
   "source": [
    "len(jobs)"
   ]
  },
  {
   "cell_type": "code",
   "execution_count": null,
   "id": "90ec294f",
   "metadata": {},
   "outputs": [],
   "source": [
    "df = pd.DataFrame(jobs)"
   ]
  },
  {
   "cell_type": "code",
   "execution_count": null,
   "id": "0a9cceae",
   "metadata": {},
   "outputs": [],
   "source": [
    "df.to_csv(f'data/naukri_{date.today()}.csv', index=False)"
   ]
  },
  {
   "cell_type": "code",
   "execution_count": null,
   "id": "9bec1735",
   "metadata": {},
   "outputs": [],
   "source": [
    "df = pd.read_csv(f'data/naukri_{date.today()}.csv')"
   ]
  },
  {
   "cell_type": "code",
   "execution_count": null,
   "id": "55e202b9",
   "metadata": {},
   "outputs": [],
   "source": [
    "df.head()"
   ]
  },
  {
   "cell_type": "code",
   "execution_count": null,
   "id": "d3df0771",
   "metadata": {},
   "outputs": [],
   "source": []
  }
 ],
 "metadata": {
  "kernelspec": {
   "display_name": "Python 3 (ipykernel)",
   "language": "python",
   "name": "python3"
  },
  "language_info": {
   "codemirror_mode": {
    "name": "ipython",
    "version": 3
   },
   "file_extension": ".py",
   "mimetype": "text/x-python",
   "name": "python",
   "nbconvert_exporter": "python",
   "pygments_lexer": "ipython3",
   "version": "3.9.7"
  }
 },
 "nbformat": 4,
 "nbformat_minor": 5
}
